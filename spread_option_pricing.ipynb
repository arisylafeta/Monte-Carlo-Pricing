{
 "cells": [
  {
   "attachments": {},
   "cell_type": "markdown",
   "metadata": {},
   "source": [
    "##                                              **Spread Option Pricing via Monte Carlo Simulations** \n",
    "***"
   ]
  },
  {
   "attachments": {},
   "cell_type": "markdown",
   "metadata": {},
   "source": [
    "A spread option is a complex derivatives contract that derives its value from the difference, or spread, between the prices of two or more assets. In this project we shall try to value the price of a spread call option with the payoff function:\n",
    "\n",
    "$$ C = max(S_{1} - S_{2} - K, 0)$$\n",
    "\n",
    "In the current literature, there exists a number of papers trying to tackle the valuation of these derivatives, all with their strenghts and weaknesses. Specifically, Margrabe's formula presented in the paper\n",
    "\n",
    "- <a href=\"https://onlinelibrary.wiley.com/doi/10.1111/j.1540-6261.1978.tb03397.x\">\"The value of an option to exchange one asset for another\"(1978)</a>\n",
    "\n",
    "presents the first closed form solution towards this problem, with the limitation $K = 0$. Following Margrabe, Kirk's approximation extends the formula to include $K > 0$ scenarios. Nevertheless, this analytical solution fails for correlation $\\rho$ close to 1. To date, the most precise method for valuating spread option was produced by Bjerksund and Stensland on their paper.\n",
    "\n",
    "- <a href=\"https://deliverypdf.ssrn.com/delivery.php?ID=624013110082093071007026027106089011052056061029027087091073064125103065125122067074053002099029105061121075071029068070074066039041082054021078084027127123066029058042034096070005076015097030123098064126094109088097121108097069084030121000095092111&EXT=pdf&INDEX=TRUE\">\"Closed form spread option valuation(2006)\"</a>\n",
    "\n",
    "All of these papers build upon the Black Scholes Model, and as such are also subject to the limitations of stochastic volatility, transaction costs, and price jumps. I've also found no solution accounting for dividends.\n",
    "\n",
    "Our approach on this project will be to utilize Monte Carlo Simulations for pricing said call spreads. We will model the dynamics of $S_{1}, S_{2}$  with the following Geometric Brownian Motion equations:\n",
    "\n",
    "$dS_{1} = {\\mu}S_{1}dt + \\sigma_{1}S_{1}dz_{1}$\n",
    "\n",
    "$dS_{2} = {\\mu}S_{2}dt + \\sigma_{2}S_{2}dz_{2}$\n",
    "\n",
    "We shall assume constant expected returns, therefore ${\\mu} = r$. Furthermore, we will simulate the evolution of the stocks $S_{1}, S_{2}$ over small time increment dt with the following standard expressions:\n",
    "\n",
    "$S_{1,T} = S_{1}e^{(r- \\frac{{\\sigma}^{2}_{1}}{2})dt + {\\sigma}_{1}\\sqrt{dt}Z_{1}},\\space Z \\thicksim N(0,1)$   \n",
    "$S_{2,T} = S_{2}e^{(r- \\frac{{\\sigma}^{2}_{2}}{2})dt + {\\sigma}_{2}\\sqrt{dt}Z_{2}},\\space Z \\thicksim N(0,1)$   \n",
    "\n"
   ]
  },
  {
   "cell_type": "code",
   "execution_count": 2,
   "metadata": {},
   "outputs": [],
   "source": [
    "import numpy as np\n",
    "import datetime as dt\n",
    "import matplotlib.pyplot as plt\n",
    "import math\n",
    "from scipy.stats import norm\n",
    "import time"
   ]
  },
  {
   "cell_type": "code",
   "execution_count": 3,
   "metadata": {},
   "outputs": [],
   "source": [
    "S1 = 110  # Spot price of first asset\n",
    "S2 = 100  # Spot price of second asset\n",
    "K = 10 # Strike price\n",
    "T = 1     # Time to maturity in years\n",
    "r = 0.05  # Risk-free interest rate\n",
    "sigma1 = 0.1  # Volatility of first asset\n",
    "sigma2 = 0.15  # Volatility of second asset\n",
    "rho = 0.8    # Correlation between the two assets\n",
    "M = 100000  # Number of Monte Carlo simulations\n",
    "N = 100 #Number of timesteps"
   ]
  },
  {
   "cell_type": "code",
   "execution_count": 4,
   "metadata": {},
   "outputs": [],
   "source": [
    "def  spread_montecarlo(S1, S2, K, T, r, sigma1, sigma2, rho, M, N):\n",
    "\n",
    "    #Precalculate contants for faster processing\n",
    "    start = time.time()\n",
    "    dt = T/N\n",
    "    nu1dt = (r - 0.5*sigma1**2)*dt\n",
    "    nu2dt = (r - 0.5*sigma2**2)*dt\n",
    "    vol1sdt = sigma1*np.sqrt(dt)\n",
    "    vol2sdt = sigma2*np.sqrt(dt)\n",
    "    srho = np.sqrt(1-rho**2)\n",
    "\n",
    "    # Standard Error Placeholders\n",
    "    sum_CT = 0\n",
    "    sum_CT2 = 0\n",
    "\n",
    "    # Monte Carlo Method\n",
    "    for i in range(M):\n",
    "        #Return Stock values to T = 0\n",
    "        St1 = S1\n",
    "        St2 = S2\n",
    "        \n",
    "        for j in range(N):\n",
    "\n",
    "            #Simulate correlated random paths\n",
    "            dz1 = np.random.normal()\n",
    "            dz2 = np.random.normal()\n",
    "            z1 = dz1\n",
    "            z2 = rho*dz1 + srho*dz2\n",
    "\n",
    "            #GBM formula            \n",
    "            St1 = St1*np.exp(nu1dt + vol1sdt*z1)\n",
    "            St2 = St2*np.exp(nu2dt + vol2sdt*z2)\n",
    "        \n",
    "        #Calculate payoff at time T\n",
    "        CT = max(St1 - St2 - K,0)\n",
    "\n",
    "        #Sum up payoffs and squares of payoffs\n",
    "        sum_CT = sum_CT + CT\n",
    "        sum_CT2 = sum_CT2 + CT*CT\n",
    "        \n",
    "    # Compute Expectation and SE\n",
    "    C0 = np.exp(-r*T)*sum_CT/M\n",
    "    sigma = np.sqrt( (sum_CT2 - sum_CT*sum_CT/M)*np.exp(-2*r*T) / (M-1) )\n",
    "    SE = sigma/np.sqrt(M)\n",
    "\n",
    "    #timekeeping\n",
    "    end = time.time()\n",
    "    print(\"Regular Monte Carlo Function took:\", end - start, \"seconds\")\n",
    "    \n",
    "    return C0, SE"
   ]
  },
  {
   "cell_type": "code",
   "execution_count": 5,
   "metadata": {},
   "outputs": [
    {
     "name": "stdout",
     "output_type": "stream",
     "text": [
      "Regular Monte Carlo Function took: 28.953566312789917 seconds\n",
      "Call value is $3.8746 with SE +/- 0.02\n"
     ]
    }
   ],
   "source": [
    "mc_reg_output = spread_montecarlo(S1, S2, K, T, r, sigma1, sigma2, rho, M, N)\n",
    "print(\"Call value is ${0} with SE +/- {1}\".format(np.round(mc_reg_output[0],5),np.round(mc_reg_output[1],2)))"
   ]
  },
  {
   "cell_type": "markdown",
   "metadata": {},
   "source": [
    "***\n",
    "### Monte Carlo Vectorized\n",
    "Our Monte Carlo simulation took approximately 28 seconds to generate an answer with 10,000 simulations and 1000 timesteps. Surely, this is inefficient for more precise calculations, and is caused by the nested loops within the function, giving us a complexity of O(N*M). Vectorizing the calculations within the function should give us a boost in processing time "
   ]
  },
  {
   "cell_type": "code",
   "execution_count": 6,
   "metadata": {},
   "outputs": [],
   "source": [
    "def spread_montecarlo_vec(S1, S2, K, T, r, sigma1, sigma2, rho, M, N):\n",
    "\n",
    "    #Precalculate constants for faster processing\n",
    "    start = time.time()\n",
    "    dt = T/N\n",
    "    nu1dt = (r - 0.5*sigma1**2)*dt\n",
    "    nu2dt = (r - 0.5*sigma2**2)*dt\n",
    "    vol1sdt = sigma1*np.sqrt(dt)\n",
    "    vol2sdt = sigma2*np.sqrt(dt)\n",
    "    srho = np.sqrt(1-rho**2)\n",
    "    \n",
    "    #Monte Carlo Method\n",
    "\n",
    "    #Simulate correlated random paths\n",
    "    dz1 = np.random.normal(size=(N, M)) \n",
    "    dz2 = np.random.normal(size=(N, M)) \n",
    "    Z1 = dz1\n",
    "    Z2 = rho*dz1 + srho*dz2\n",
    "\n",
    "    #Precompute\n",
    "    delta_St1 = nu1dt + vol1sdt*Z1\n",
    "    delta_St2 = nu2dt + vol2sdt*Z2\n",
    "\n",
    "    #GBM Formula\n",
    "    St1 = S1*np.cumprod( np.exp(delta_St1), axis=0)\n",
    "    St2 = S2*np.cumprod( np.exp(delta_St2), axis=0)\n",
    "    ST1 = np.concatenate( (np.full(shape=(1, M), fill_value=S1), St1 ) )\n",
    "    ST2 = np.concatenate( (np.full(shape=(1, M), fill_value=S2), St2 ) )\n",
    "\n",
    "    #Calculate payoff at time T\n",
    "    CT = np.maximum(ST1[-1] - ST2[-1] - K, 0)\n",
    "\n",
    "    #Compute Expectation and SE\n",
    "    C0 = np.exp(-r*T)*np.sum(CT)/M\n",
    "    sigma = np.sqrt( np.sum( (np.exp(-r*T)*CT - C0)**2) / (M-1) )\n",
    "    SE= sigma/np.sqrt(M)\n",
    "\n",
    "    #timekeeping\n",
    "    end = time.time()\n",
    "    print(\"Vectorized Monte Carlo Function took:\", end - start, \"seconds\")\n",
    "\n",
    "    return C0, SE\n"
   ]
  },
  {
   "cell_type": "code",
   "execution_count": 7,
   "metadata": {},
   "outputs": [
    {
     "name": "stdout",
     "output_type": "stream",
     "text": [
      "Vectorized Monte Carlo Function took: 0.8342878818511963 seconds\n",
      "Call value is $3.87499 with SE +/- 0.02\n"
     ]
    }
   ],
   "source": [
    "mc_vec_output = spread_montecarlo_vec(S1, S2, K, T, r, sigma1, sigma2, rho, M, N)\n",
    "print(\"Call value is ${0} with SE +/- {1}\".format(np.round(mc_vec_output[0],5),np.round(mc_vec_output[1],2)))"
   ]
  },
  {
   "cell_type": "markdown",
   "metadata": {},
   "source": [
    "***\n",
    "### Verifying our Results\n",
    "\n",
    "We've reduced runtime to 0.8 seconds, that's a 97% improvement in speed! Also, our results seem to be within 1 standard deviation from one another, thankfully. Let's compare the price we've got by our Monte Carlo simulation with a closed form solution like Kirk's approximation and Bjerksund and Stensland Formula"
   ]
  },
  {
   "cell_type": "code",
   "execution_count": 8,
   "metadata": {},
   "outputs": [],
   "source": [
    "#Kirk's Approximation\n",
    "def kirksA(f1, f2, x, t, r, v1, v2, corr, type = \"c\"):\n",
    "    # Compute F and Sigma\n",
    "    f = f1 / (f2 + x)\n",
    "    f_temp = f2 / (f2 + x)\n",
    "    v = math.sqrt((v1 ** 2) + ((v2 * f_temp) ** 2) - (2 * corr * v1 * v2 * f_temp))\n",
    "\n",
    "    #Compute d1 and d2\n",
    "    d1 = (math.log(f) + 0.5*t*v**2) / (v * math.sqrt(t))\n",
    "    d2 = d1 - v * math.sqrt(t)\n",
    "\n",
    "    #Apply formula\n",
    "    if type == 'c':\n",
    "          price = math.exp(-r*t)*( f1 * norm.cdf(d1) - (f2 + x)*norm.cdf(d2))\n",
    "    elif type == 'p':\n",
    "          price = (f2 + x)*math.exp(-r*t)*( norm.cdf(-d2) - f*norm.cdf(-d1))\n",
    "\n",
    "    return price"
   ]
  },
  {
   "cell_type": "code",
   "execution_count": 9,
   "metadata": {},
   "outputs": [],
   "source": [
    "def bjerk_stens(f1, f2, K, t, r, v1, v2, rho, type = 'c'):\n",
    "    #Compute variables and Sigma\n",
    "    N = norm.cdf\n",
    "    a = f2 + K\n",
    "    b = f2/(a)\n",
    "    v = math.sqrt(v1**2 - 2*b*rho*v1*v2 + b**2*v2**2)\n",
    "\n",
    "    #Compute d1, d2, and d3\n",
    "    d1 = (math.log(f1/a) + (0.5*v1**2 - b*rho*v1*v2 + 0.5*b**2*v2**2)*t)/v*math.sqrt(t)\n",
    "    d2 = (math.log(f1/a) + (-0.5*v1**2 + rho*v1*v2 + 0.5*b**2*v2**2 - b*v2**2)*t)/v*math.sqrt(t)\n",
    "    d3 = (math.log(f1/a) + (-0.5*v1**2 + 0.5*b**2*v2**2)*t)/v*math.sqrt(t)\n",
    "\n",
    "    if type == 'c':\n",
    "        price = math.exp(-r*t)*(f1*N(d1) - f2*N(d2) - K*N(d3))\n",
    "    if type == 'p':\n",
    "        price = math.exp(-r*t)*(f1*(N(d1) - 1) - f2*(N(d2) - 1) - K*(N(d3) - 1))\n",
    "\n",
    "    return price"
   ]
  },
  {
   "cell_type": "code",
   "execution_count": 10,
   "metadata": {},
   "outputs": [],
   "source": [
    "#Play with the values and test the code. For rho -> 1.0 Kirk's Approximation becomes less and less accurate.\n",
    "\n",
    "S1 = 110  # Spot price of first asset\n",
    "S2 = 100  # Spot price of second asset\n",
    "K = 10 # Strike price\n",
    "T = 1     # Time to maturity in years\n",
    "r = 0.05  # Risk-free interest rate\n",
    "sigma1 = 0.1  # Volatility of first asset\n",
    "sigma2 = 0.15  # Volatility of second asset\n",
    "rho = 0.8    # Correlation between the two assets\n",
    "M = 1000000  # Number of Monte Carlo simulations\n",
    "N = 10 #Number of timesteps"
   ]
  },
  {
   "cell_type": "code",
   "execution_count": 11,
   "metadata": {},
   "outputs": [
    {
     "name": "stdout",
     "output_type": "stream",
     "text": [
      "Vectorized Monte Carlo Function took: 0.8213562965393066 seconds\n",
      "Monte Carlo Simulation Call price: $3.87299 with SE +/- 0.01\n",
      "-------------------------------------------------------\n",
      "Kirk's Approximation Call price: 3.8709\n",
      "Bjerksund & Stensland Call price: 3.8716\n"
     ]
    },
    {
     "data": {
      "image/png": "[encoded data removed]",
      "text/plain": [
       "<Figure size 640x480 with 1 Axes>"
      ]
     },
     "metadata": {},
     "output_type": "display_data"
    }
   ],
   "source": [
    "#Calculating forward prices\n",
    "F1 = S1*math.exp(r*T)\n",
    "F2 = S2*math.exp(r*T)\n",
    "\n",
    "#MonteCarlo\n",
    "mc_vec_output = spread_montecarlo_vec(S1, S2, K, T, r, sigma1, sigma2, rho, M, N)\n",
    "\n",
    "print(\"Monte Carlo Simulation Call price: ${0} with SE +/- {1}\".format(np.round(mc_vec_output[0],5),np.round(mc_vec_output[1],2)))\n",
    "print(\"-------------------------------------------------------\")\n",
    "print(\"Kirk's Approximation Call price: %.4f\" % round(kirksA(F1, F2, K, T, r, sigma1, sigma2, rho, 'c'), 4))\n",
    "print(\"Bjerksund & Stensland Call price: %.4f\" % round(bjerk_stens(F1, F2, K, T, r, sigma1, sigma2, rho, 'c'), 4))\n",
    "\n",
    "#Visualising everything\n",
    "C0, SE = mc_vec_output\n",
    "bjerk_stens_val = bjerk_stens(F1, F2, K, T, r, sigma1, sigma2, rho, 'c')\n",
    "kirksA_val = kirksA(F1, F2, K, T, r, sigma1, sigma2, rho, 'c')\n",
    "\n",
    "x1 = np.linspace(C0-3*SE, C0-1*SE, 100)\n",
    "x2 = np.linspace(C0-1*SE, C0+1*SE, 100)\n",
    "x3 = np.linspace(C0+1*SE, C0+3*SE, 100)\n",
    "\n",
    "s1 = norm.pdf(x1, C0, SE)\n",
    "s2 = norm.pdf(x2, C0, SE)\n",
    "s3 = norm.pdf(x3, C0, SE)\n",
    "\n",
    "plt.fill_between(x1, s1, color='tab:blue',label='> StDev')\n",
    "plt.fill_between(x2, s2, color='cornflowerblue',label='1 StDev')\n",
    "plt.fill_between(x3, s3, color='tab:blue')\n",
    "\n",
    "plt.plot([C0,C0],[0, max(s2)*1.1], 'k',\n",
    "        label='Monte Carlo Price')\n",
    "plt.plot([bjerk_stens_val, bjerk_stens_val],[0, max(s2)*1.1], 'g',\n",
    "        label='Kirk Price')\n",
    "plt.plot([kirksA_val, kirksA_val],[0, max(s2)*1.1], 'y',\n",
    "        label='Bjerksund & Stensland Price')\n",
    "\n",
    "plt.ylabel(\"Probability\")\n",
    "plt.xlabel(\"Option Price\")\n",
    "plt.legend(loc='upper right', fontsize='8')\n",
    "plt.show()\n"
   ]
  }
 ],
 "metadata": {
  "kernelspec": {
   "display_name": "Python 3",
   "language": "python",
   "name": "python3"
  },
  "language_info": {
   "codemirror_mode": {
    "name": "ipython",
    "version": 3
   },
   "file_extension": ".py",
   "mimetype": "text/x-python",
   "name": "python",
   "nbconvert_exporter": "python",
   "pygments_lexer": "ipython3",
   "version": "3.11.3"
  },
  "orig_nbformat": 4
 },
 "nbformat": 4,
 "nbformat_minor": 2
}
